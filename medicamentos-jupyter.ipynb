{
 "cells": [
  {
   "cell_type": "markdown",
   "metadata": {},
   "source": [
    "# Medicamentos MUBICS"
   ]
  },
  {
   "cell_type": "code",
   "execution_count": 36,
   "metadata": {},
   "outputs": [
    {
     "data": {
      "text/html": [
       "<table>\n",
       "<thead><tr><th scope=col>CMPD_CHEMBLID</th><th scope=col>CANONICAL_SMILES</th><th scope=col>PROTEIN_ACCESSION</th><th scope=col>STANDARD_TYPE_UNITSj</th><th scope=col>STANDARD_VALUE</th><th scope=col>ASSAY_ORGANISM</th><th scope=col>ORGANISM</th></tr></thead>\n",
       "<tbody>\n",
       "\t<tr><td>CHEMBL117109                                          </td><td>Fc1ccc(cc1)c2nc3ccccn3c2C4=NN(C(=O)C=C4)c5c(Cl)cccc5Cl</td><td>O15264                                                </td><td>Inhibition (%)                                        </td><td>  60                                                  </td><td>Homo sapiens                                          </td><td>Homo sapiens                                          </td></tr>\n",
       "\t<tr><td>CHEMBL357732                                          </td><td>Cc1ccccc1C(=O)c2ccc(Nc3ccccc3N)cc2                    </td><td>O15264                                                </td><td>IC50 (nM)                                             </td><td>  47                                                  </td><td>Homo sapiens                                          </td><td>Homo sapiens                                          </td></tr>\n",
       "\t<tr><td>CHEMBL325597                                          </td><td>CCCn1c(SC)nc(c2ccc(F)cc2)c1c3ccncc3                   </td><td>O15264                                                </td><td>IC50 (nM)                                             </td><td>1300                                                  </td><td>Homo sapiens                                          </td><td>Homo sapiens                                          </td></tr>\n",
       "\t<tr><td>CHEMBL94487                                           </td><td>CC(C)(C)c1onc(NC(=O)Nc2ccc(Oc3ccccc3)cc2)c1           </td><td>O15264                                                </td><td>IC50 (nM)                                             </td><td> 360                                                  </td><td>Escherichia coli                                      </td><td>Homo sapiens                                          </td></tr>\n",
       "</tbody>\n",
       "</table>\n"
      ],
      "text/latex": [
       "\\begin{tabular}{r|lllllll}\n",
       " CMPD\\_CHEMBLID & CANONICAL\\_SMILES & PROTEIN\\_ACCESSION & STANDARD\\_TYPE\\_UNITSj & STANDARD\\_VALUE & ASSAY\\_ORGANISM & ORGANISM\\\\\n",
       "\\hline\n",
       "\t CHEMBL117109                                           & Fc1ccc(cc1)c2nc3ccccn3c2C4=NN(C(=O)C=C4)c5c(Cl)cccc5Cl & O15264                                                 & Inhibition (\\%)                                       &   60                                                   & Homo sapiens                                           & Homo sapiens                                          \\\\\n",
       "\t CHEMBL357732                                           & Cc1ccccc1C(=O)c2ccc(Nc3ccccc3N)cc2                     & O15264                                                 & IC50 (nM)                                              &   47                                                   & Homo sapiens                                           & Homo sapiens                                          \\\\\n",
       "\t CHEMBL325597                                           & CCCn1c(SC)nc(c2ccc(F)cc2)c1c3ccncc3                    & O15264                                                 & IC50 (nM)                                              & 1300                                                   & Homo sapiens                                           & Homo sapiens                                          \\\\\n",
       "\t CHEMBL94487                                            & CC(C)(C)c1onc(NC(=O)Nc2ccc(Oc3ccccc3)cc2)c1            & O15264                                                 & IC50 (nM)                                              &  360                                                   & Escherichia coli                                       & Homo sapiens                                          \\\\\n",
       "\\end{tabular}\n"
      ],
      "text/markdown": [
       "\n",
       "| CMPD_CHEMBLID | CANONICAL_SMILES | PROTEIN_ACCESSION | STANDARD_TYPE_UNITSj | STANDARD_VALUE | ASSAY_ORGANISM | ORGANISM |\n",
       "|---|---|---|---|---|---|---|\n",
       "| CHEMBL117109                                           | Fc1ccc(cc1)c2nc3ccccn3c2C4=NN(C(=O)C=C4)c5c(Cl)cccc5Cl | O15264                                                 | Inhibition (%)                                         |   60                                                   | Homo sapiens                                           | Homo sapiens                                           |\n",
       "| CHEMBL357732                                           | Cc1ccccc1C(=O)c2ccc(Nc3ccccc3N)cc2                     | O15264                                                 | IC50 (nM)                                              |   47                                                   | Homo sapiens                                           | Homo sapiens                                           |\n",
       "| CHEMBL325597                                           | CCCn1c(SC)nc(c2ccc(F)cc2)c1c3ccncc3                    | O15264                                                 | IC50 (nM)                                              | 1300                                                   | Homo sapiens                                           | Homo sapiens                                           |\n",
       "| CHEMBL94487                                            | CC(C)(C)c1onc(NC(=O)Nc2ccc(Oc3ccccc3)cc2)c1            | O15264                                                 | IC50 (nM)                                              |  360                                                   | Escherichia coli                                       | Homo sapiens                                           |\n",
       "\n"
      ],
      "text/plain": [
       "  CMPD_CHEMBLID CANONICAL_SMILES                                      \n",
       "1 CHEMBL117109  Fc1ccc(cc1)c2nc3ccccn3c2C4=NN(C(=O)C=C4)c5c(Cl)cccc5Cl\n",
       "2 CHEMBL357732  Cc1ccccc1C(=O)c2ccc(Nc3ccccc3N)cc2                    \n",
       "3 CHEMBL325597  CCCn1c(SC)nc(c2ccc(F)cc2)c1c3ccncc3                   \n",
       "4 CHEMBL94487   CC(C)(C)c1onc(NC(=O)Nc2ccc(Oc3ccccc3)cc2)c1           \n",
       "  PROTEIN_ACCESSION STANDARD_TYPE_UNITSj STANDARD_VALUE ASSAY_ORGANISM  \n",
       "1 O15264            Inhibition (%)         60           Homo sapiens    \n",
       "2 O15264            IC50 (nM)              47           Homo sapiens    \n",
       "3 O15264            IC50 (nM)            1300           Homo sapiens    \n",
       "4 O15264            IC50 (nM)             360           Escherichia coli\n",
       "  ORGANISM    \n",
       "1 Homo sapiens\n",
       "2 Homo sapiens\n",
       "3 Homo sapiens\n",
       "4 Homo sapiens"
      ]
     },
     "metadata": {},
     "output_type": "display_data"
    }
   ],
   "source": [
    "#install.packages(\"class\")\n",
    "#install.packages(\"caret\")\n",
    "#install.packages(\"codetools\")\n",
    "#install.packages(\"neuralnet\")\n",
    "#install.packages(\"e1071\")\n",
    "#install.packages(\"janitor\")\n",
    "library(dplyr)\n",
    "library(readxl)\n",
    "library(randomForest)\n",
    "library(class)\n",
    "library(caret)\n",
    "library(e1071)\n",
    "library(neuralnet)\n",
    "library(janitor)\n",
    "#Obtemos la base de datos original\n",
    "dataset <- read_excel(\"dataset_Chembl_Cytokines.xlsx\")\n",
    "head(dataset, 4)\n"
   ]
  },
  {
   "cell_type": "code",
   "execution_count": 37,
   "metadata": {},
   "outputs": [
    {
     "data": {
      "text/html": [
       "<table>\n",
       "<thead><tr><th scope=col>chemblid</th><th scope=col>smiles</th><th scope=col>value</th></tr></thead>\n",
       "<tbody>\n",
       "\t<tr><td>CHEMBL357732                                                  </td><td>Cc1ccccc1C(=O)c2ccc(Nc3ccccc3N)cc2                            </td><td>  47                                                          </td></tr>\n",
       "\t<tr><td>CHEMBL325597                                                  </td><td>CCCn1c(SC)nc(c2ccc(F)cc2)c1c3ccncc3                           </td><td>1300                                                          </td></tr>\n",
       "\t<tr><td>CHEMBL425494                                                  </td><td>COc1ccc(N2C(=O)Nc3c2ncnc3c4ccccc4C)c(OC)c1                    </td><td>5200                                                          </td></tr>\n",
       "\t<tr><td>CHEMBL103667                                                  </td><td>Cc1ccc(cc1)n2nc(cc2NC(=O)Nc3ccc(OCCN4CCOCC4)c5ccccc35)C(C)(C)C</td><td>   9                                                          </td></tr>\n",
       "</tbody>\n",
       "</table>\n"
      ],
      "text/latex": [
       "\\begin{tabular}{r|lll}\n",
       " chemblid & smiles & value\\\\\n",
       "\\hline\n",
       "\t CHEMBL357732                                                   & Cc1ccccc1C(=O)c2ccc(Nc3ccccc3N)cc2                             &   47                                                          \\\\\n",
       "\t CHEMBL325597                                                   & CCCn1c(SC)nc(c2ccc(F)cc2)c1c3ccncc3                            & 1300                                                          \\\\\n",
       "\t CHEMBL425494                                                   & COc1ccc(N2C(=O)Nc3c2ncnc3c4ccccc4C)c(OC)c1                     & 5200                                                          \\\\\n",
       "\t CHEMBL103667                                                   & Cc1ccc(cc1)n2nc(cc2NC(=O)Nc3ccc(OCCN4CCOCC4)c5ccccc35)C(C)(C)C &    9                                                          \\\\\n",
       "\\end{tabular}\n"
      ],
      "text/markdown": [
       "\n",
       "| chemblid | smiles | value |\n",
       "|---|---|---|\n",
       "| CHEMBL357732                                                   | Cc1ccccc1C(=O)c2ccc(Nc3ccccc3N)cc2                             |   47                                                           |\n",
       "| CHEMBL325597                                                   | CCCn1c(SC)nc(c2ccc(F)cc2)c1c3ccncc3                            | 1300                                                           |\n",
       "| CHEMBL425494                                                   | COc1ccc(N2C(=O)Nc3c2ncnc3c4ccccc4C)c(OC)c1                     | 5200                                                           |\n",
       "| CHEMBL103667                                                   | Cc1ccc(cc1)n2nc(cc2NC(=O)Nc3ccc(OCCN4CCOCC4)c5ccccc35)C(C)(C)C |    9                                                           |\n",
       "\n"
      ],
      "text/plain": [
       "  chemblid     smiles                                                        \n",
       "1 CHEMBL357732 Cc1ccccc1C(=O)c2ccc(Nc3ccccc3N)cc2                            \n",
       "2 CHEMBL325597 CCCn1c(SC)nc(c2ccc(F)cc2)c1c3ccncc3                           \n",
       "3 CHEMBL425494 COc1ccc(N2C(=O)Nc3c2ncnc3c4ccccc4C)c(OC)c1                    \n",
       "4 CHEMBL103667 Cc1ccc(cc1)n2nc(cc2NC(=O)Nc3ccc(OCCN4CCOCC4)c5ccccc35)C(C)(C)C\n",
       "  value\n",
       "1   47 \n",
       "2 1300 \n",
       "3 5200 \n",
       "4    9 "
      ]
     },
     "metadata": {},
     "output_type": "display_data"
    }
   ],
   "source": [
    "#Filtramos la base de datos para tener solo los valores referentes a IC50 y Homo Sapiens\n",
    "medicamentos<- filter(dataset,dataset$STANDARD_TYPE_UNITSj==\"IC50 (nM)\")\n",
    "medicamentos<- filter(medicamentos,medicamentos$ASSAY_ORGANISM==\"Homo sapiens\")\n",
    "#Creamos un data frame con las columnas id, smiles y value\n",
    "medicamentos <- data.frame(\"chemblid\"= medicamentos$CMPD_CHEMBLID,\n",
    "                           \"smiles\" = medicamentos$CANONICAL_SMILES,  \"value\" = medicamentos$STANDARD_VALUE)\n",
    "head(medicamentos, 4)\n",
    "#PONER COMENTADAS LAS LINEAS PARA OBTENER LOS MARCADORES"
   ]
  },
  {
   "cell_type": "code",
   "execution_count": 25,
   "metadata": {},
   "outputs": [],
   "source": [
    "#Obtenemos los SMILES y calculamos los descriptores\n",
    "#smiles <- medicamentos$smiles\n",
    "#vectorDescriptores <- data.frame()\n",
    "#library(rcdk)\n",
    "#for(i in 1:length(smiles)) {\n",
    "#  anle138b = parse.smiles(as.vector(smiles[i]))\n",
    "#  descriptors = get.desc.names(type=\"all\")\n",
    "#  descriptorsvalues = eval.desc(anle138b,descriptors)\n",
    "#  vectorDescriptores <- rbind(vectorDescriptores,descriptorsvalues)\n",
    "#}"
   ]
  },
  {
   "cell_type": "code",
   "execution_count": 38,
   "metadata": {
    "scrolled": true
   },
   "outputs": [
    {
     "data": {
      "text/html": [
       "<table>\n",
       "<thead><tr><th scope=col>CanonicalSmiles</th><th scope=col>nSmallRings</th><th scope=col>nAromRings</th><th scope=col>nRingBlocks</th><th scope=col>nAromBlocks</th><th scope=col>nRings3</th><th scope=col>nRings4</th><th scope=col>nRings5</th><th scope=col>nRings6</th><th scope=col>nRings7</th><th scope=col>...</th><th scope=col>ATSc4</th><th scope=col>ATSc5</th><th scope=col>nAtom</th><th scope=col>nAromBond</th><th scope=col>naAromAtom</th><th scope=col>apol</th><th scope=col>ALogP</th><th scope=col>ALogp2</th><th scope=col>AMR</th><th scope=col>nAcid</th></tr></thead>\n",
       "<tbody>\n",
       "\t<tr><td>Cc1ccccc1C(=O)c2ccc(Nc3ccccc3N)cc2                            </td><td>3                                                             </td><td>3                                                             </td><td>3                                                             </td><td>3                                                             </td><td>0                                                             </td><td>0                                                             </td><td>0                                                             </td><td>3                                                             </td><td>0                                                             </td><td>...                                                           </td><td> 0.03290936                                                   </td><td>-0.01109213                                                   </td><td>41                                                            </td><td>18                                                            </td><td>18                                                            </td><td>50.20427                                                      </td><td>4.7787                                                        </td><td>22.83597                                                      </td><td> 94.7111                                                      </td><td>0                                                             </td></tr>\n",
       "\t<tr><td>CCCn1c(SC)nc(c2ccc(F)cc2)c1c3ccncc3                           </td><td>3                                                             </td><td>3                                                             </td><td>3                                                             </td><td>3                                                             </td><td>0                                                             </td><td>0                                                             </td><td>1                                                             </td><td>2                                                             </td><td>0                                                             </td><td>...                                                           </td><td>-0.04867077                                                   </td><td>-0.02404886                                                   </td><td>41                                                            </td><td>17                                                            </td><td>17                                                            </td><td>50.43927                                                      </td><td>3.6182                                                        </td><td>13.09137                                                      </td><td> 91.8774                                                      </td><td>0                                                             </td></tr>\n",
       "\t<tr><td>COc1ccc(N2C(=O)Nc3c2ncnc3c4ccccc4C)c(OC)c1                    </td><td>4                                                             </td><td>4                                                             </td><td>3                                                             </td><td>3                                                             </td><td>0                                                             </td><td>0                                                             </td><td>1                                                             </td><td>3                                                             </td><td>0                                                             </td><td>...                                                           </td><td>-0.08995467                                                   </td><td>-0.05025407                                                   </td><td>45                                                            </td><td>22                                                            </td><td>21                                                            </td><td>54.00827                                                      </td><td>4.7696                                                        </td><td>22.74908                                                      </td><td> 97.5147                                                      </td><td>0                                                             </td></tr>\n",
       "\t<tr><td>Cc1ccc(cc1)n2nc(cc2NC(=O)Nc3ccc(OCCN4CCOCC4)c5ccccc35)C(C)(C)C</td><td>5                                                             </td><td>4                                                             </td><td>4                                                             </td><td>3                                                             </td><td>0                                                             </td><td>0                                                             </td><td>1                                                             </td><td>4                                                             </td><td>0                                                             </td><td>...                                                           </td><td> 0.21593668                                                   </td><td>-0.06937263                                                   </td><td>76                                                            </td><td>22                                                            </td><td>21                                                            </td><td>87.13734                                                      </td><td>6.3694                                                        </td><td>40.56926                                                      </td><td>151.6981                                                      </td><td>0                                                             </td></tr>\n",
       "</tbody>\n",
       "</table>\n"
      ],
      "text/latex": [
       "\\begin{tabular}{r|lllllllllllllllllllllllllllllllllllllllllllllllllllllllllllllllllllllllllllllllllllllllllllllllllllllllllllllllllllllllllllllllllllllllllllllllllllllllllllllllllllllllllllllllll}\n",
       " CanonicalSmiles & nSmallRings & nAromRings & nRingBlocks & nAromBlocks & nRings3 & nRings4 & nRings5 & nRings6 & nRings7 & ... & ATSc4 & ATSc5 & nAtom & nAromBond & naAromAtom & apol & ALogP & ALogp2 & AMR & nAcid\\\\\n",
       "\\hline\n",
       "\t Cc1ccccc1C(=O)c2ccc(Nc3ccccc3N)cc2                             & 3                                                              & 3                                                              & 3                                                              & 3                                                              & 0                                                              & 0                                                              & 0                                                              & 3                                                              & 0                                                              & ...                                                            &  0.03290936                                                    & -0.01109213                                                    & 41                                                             & 18                                                             & 18                                                             & 50.20427                                                       & 4.7787                                                         & 22.83597                                                       &  94.7111                                                       & 0                                                             \\\\\n",
       "\t CCCn1c(SC)nc(c2ccc(F)cc2)c1c3ccncc3                            & 3                                                              & 3                                                              & 3                                                              & 3                                                              & 0                                                              & 0                                                              & 1                                                              & 2                                                              & 0                                                              & ...                                                            & -0.04867077                                                    & -0.02404886                                                    & 41                                                             & 17                                                             & 17                                                             & 50.43927                                                       & 3.6182                                                         & 13.09137                                                       &  91.8774                                                       & 0                                                             \\\\\n",
       "\t COc1ccc(N2C(=O)Nc3c2ncnc3c4ccccc4C)c(OC)c1                     & 4                                                              & 4                                                              & 3                                                              & 3                                                              & 0                                                              & 0                                                              & 1                                                              & 3                                                              & 0                                                              & ...                                                            & -0.08995467                                                    & -0.05025407                                                    & 45                                                             & 22                                                             & 21                                                             & 54.00827                                                       & 4.7696                                                         & 22.74908                                                       &  97.5147                                                       & 0                                                             \\\\\n",
       "\t Cc1ccc(cc1)n2nc(cc2NC(=O)Nc3ccc(OCCN4CCOCC4)c5ccccc35)C(C)(C)C & 5                                                              & 4                                                              & 4                                                              & 3                                                              & 0                                                              & 0                                                              & 1                                                              & 4                                                              & 0                                                              & ...                                                            &  0.21593668                                                    & -0.06937263                                                    & 76                                                             & 22                                                             & 21                                                             & 87.13734                                                       & 6.3694                                                         & 40.56926                                                       & 151.6981                                                       & 0                                                             \\\\\n",
       "\\end{tabular}\n"
      ],
      "text/markdown": [
       "\n",
       "| CanonicalSmiles | nSmallRings | nAromRings | nRingBlocks | nAromBlocks | nRings3 | nRings4 | nRings5 | nRings6 | nRings7 | ... | ATSc4 | ATSc5 | nAtom | nAromBond | naAromAtom | apol | ALogP | ALogp2 | AMR | nAcid |\n",
       "|---|---|---|---|---|---|---|---|---|---|---|---|---|---|---|---|---|---|---|---|---|\n",
       "| Cc1ccccc1C(=O)c2ccc(Nc3ccccc3N)cc2                             | 3                                                              | 3                                                              | 3                                                              | 3                                                              | 0                                                              | 0                                                              | 0                                                              | 3                                                              | 0                                                              | ...                                                            |  0.03290936                                                    | -0.01109213                                                    | 41                                                             | 18                                                             | 18                                                             | 50.20427                                                       | 4.7787                                                         | 22.83597                                                       |  94.7111                                                       | 0                                                              |\n",
       "| CCCn1c(SC)nc(c2ccc(F)cc2)c1c3ccncc3                            | 3                                                              | 3                                                              | 3                                                              | 3                                                              | 0                                                              | 0                                                              | 1                                                              | 2                                                              | 0                                                              | ...                                                            | -0.04867077                                                    | -0.02404886                                                    | 41                                                             | 17                                                             | 17                                                             | 50.43927                                                       | 3.6182                                                         | 13.09137                                                       |  91.8774                                                       | 0                                                              |\n",
       "| COc1ccc(N2C(=O)Nc3c2ncnc3c4ccccc4C)c(OC)c1                     | 4                                                              | 4                                                              | 3                                                              | 3                                                              | 0                                                              | 0                                                              | 1                                                              | 3                                                              | 0                                                              | ...                                                            | -0.08995467                                                    | -0.05025407                                                    | 45                                                             | 22                                                             | 21                                                             | 54.00827                                                       | 4.7696                                                         | 22.74908                                                       |  97.5147                                                       | 0                                                              |\n",
       "| Cc1ccc(cc1)n2nc(cc2NC(=O)Nc3ccc(OCCN4CCOCC4)c5ccccc35)C(C)(C)C | 5                                                              | 4                                                              | 4                                                              | 3                                                              | 0                                                              | 0                                                              | 1                                                              | 4                                                              | 0                                                              | ...                                                            |  0.21593668                                                    | -0.06937263                                                    | 76                                                             | 22                                                             | 21                                                             | 87.13734                                                       | 6.3694                                                         | 40.56926                                                       | 151.6981                                                       | 0                                                              |\n",
       "\n"
      ],
      "text/plain": [
       "  CanonicalSmiles                                                nSmallRings\n",
       "1 Cc1ccccc1C(=O)c2ccc(Nc3ccccc3N)cc2                             3          \n",
       "2 CCCn1c(SC)nc(c2ccc(F)cc2)c1c3ccncc3                            3          \n",
       "3 COc1ccc(N2C(=O)Nc3c2ncnc3c4ccccc4C)c(OC)c1                     4          \n",
       "4 Cc1ccc(cc1)n2nc(cc2NC(=O)Nc3ccc(OCCN4CCOCC4)c5ccccc35)C(C)(C)C 5          \n",
       "  nAromRings nRingBlocks nAromBlocks nRings3 nRings4 nRings5 nRings6 nRings7\n",
       "1 3          3           3           0       0       0       3       0      \n",
       "2 3          3           3           0       0       1       2       0      \n",
       "3 4          3           3           0       0       1       3       0      \n",
       "4 4          4           3           0       0       1       4       0      \n",
       "  ... ATSc4       ATSc5       nAtom nAromBond naAromAtom apol     ALogP \n",
       "1 ...  0.03290936 -0.01109213 41    18        18         50.20427 4.7787\n",
       "2 ... -0.04867077 -0.02404886 41    17        17         50.43927 3.6182\n",
       "3 ... -0.08995467 -0.05025407 45    22        21         54.00827 4.7696\n",
       "4 ...  0.21593668 -0.06937263 76    22        21         87.13734 6.3694\n",
       "  ALogp2   AMR      nAcid\n",
       "1 22.83597  94.7111 0    \n",
       "2 13.09137  91.8774 0    \n",
       "3 22.74908  97.5147 0    \n",
       "4 40.56926 151.6981 0    "
      ]
     },
     "metadata": {},
     "output_type": "display_data"
    }
   ],
   "source": [
    "#cargamos descriptores moleculares\n",
    "vectorDescriptores <- read.csv(\"vectorDescriptores.csv\")\n",
    "#eliminamos columnas con valores constantes (también se eliminan las columnas de NA's)\n",
    "vectorDescriptores <- remove_constant(vectorDescriptores, na.rm=FALSE)\n",
    "#eliminamos filas con valores nulos (10); también se eliminan esas mismas filas en medicamentos\n",
    "medicamentos <- medicamentos[complete.cases(vectorDescriptores),]\n",
    "vectorDescriptores <- vectorDescriptores[complete.cases(vectorDescriptores),]\n",
    "\n",
    "head(vectorDescriptores,4)"
   ]
  },
  {
   "cell_type": "code",
   "execution_count": 39,
   "metadata": {},
   "outputs": [
    {
     "data": {
      "image/png": "[encoded data removed]",
      "text/plain": [
       "plot without title"
      ]
     },
     "metadata": {},
     "output_type": "display_data"
    }
   ],
   "source": [
    "#Comprobemos la distribucion de los valores de IC50\n",
    "values=sort(medicamentos$value)\n",
    "plot(values,type=\"l\")\n",
    "options(repr.plot.width=4, repr.plot.height=4)"
   ]
  },
  {
   "cell_type": "code",
   "execution_count": 40,
   "metadata": {},
   "outputs": [
    {
     "data": {
      "text/html": [
       "93"
      ],
      "text/latex": [
       "93"
      ],
      "text/markdown": [
       "93"
      ],
      "text/plain": [
       "[1] 93"
      ]
     },
     "metadata": {},
     "output_type": "display_data"
    }
   ],
   "source": [
    "#Decidimos un punto de separacion entre valores IC50 altos (HIGH) y bajos (LOW)\n",
    "\n",
    "median(values)\n",
    "#Debido a la distribución de los datos la mediana no es fiable, ya que los valores se mantienen bajos\n",
    "#hasta llegar al último 10% de los datos"
   ]
  },
  {
   "cell_type": "code",
   "execution_count": 41,
   "metadata": {},
   "outputs": [
    {
     "data": {
      "text/html": [
       "3372.06745265524"
      ],
      "text/latex": [
       "3372.06745265524"
      ],
      "text/markdown": [
       "3372.06745265524"
      ],
      "text/plain": [
       "[1] 3372.067"
      ]
     },
     "metadata": {},
     "output_type": "display_data"
    }
   ],
   "source": [
    "#La media se ajusta un poco más\n",
    "mean(values)"
   ]
  },
  {
   "cell_type": "code",
   "execution_count": 30,
   "metadata": {},
   "outputs": [],
   "source": [
    "#También se puede escojer como punto de separación, el punto medio de la curva de crecimiento que se ve en\n",
    "#la gráfica. La posición 3500 (aprox)\n",
    "#values[3500]"
   ]
  },
  {
   "cell_type": "code",
   "execution_count": 42,
   "metadata": {},
   "outputs": [
    {
     "data": {
      "text/html": [
       "<table>\n",
       "<thead><tr><th scope=col>nSmallRings</th><th scope=col>nAromRings</th><th scope=col>nRingBlocks</th><th scope=col>nRings4</th><th scope=col>nRings6</th><th scope=col>nRings7</th><th scope=col>tpsaEfficiency</th><th scope=col>XLogP</th><th scope=col>LipinskiFailures</th><th scope=col>nRotB</th><th scope=col>...</th><th scope=col>BCUTc.1h</th><th scope=col>BCUTp.1l</th><th scope=col>BCUTp.1h</th><th scope=col>nBase</th><th scope=col>ATSm1</th><th scope=col>ATSc2</th><th scope=col>ATSc3</th><th scope=col>ATSc4</th><th scope=col>ATSc5</th><th scope=col>nAcid</th></tr></thead>\n",
       "<tbody>\n",
       "\t<tr><td>3          </td><td>3          </td><td>3          </td><td>0          </td><td>3          </td><td>0          </td><td>0.1824308  </td><td>4.408      </td><td>0          </td><td> 4         </td><td>...        </td><td>0.1932216  </td><td>5.629999   </td><td> 9.956377  </td><td>0          </td><td>24.49443   </td><td>-0.06168846</td><td>-0.04146567</td><td> 0.03290936</td><td>-0.01109213</td><td>0          </td></tr>\n",
       "\t<tr><td>3          </td><td>3          </td><td>3          </td><td>0          </td><td>2          </td><td>0          </td><td>0.1712213  </td><td>4.925      </td><td>0          </td><td> 5         </td><td>...        </td><td>0.1484494  </td><td>4.106970   </td><td>12.279637  </td><td>0          </td><td>31.70974   </td><td>-0.18828574</td><td> 0.09048650</td><td>-0.04867077</td><td>-0.02404886</td><td>0          </td></tr>\n",
       "\t<tr><td>4          </td><td>4          </td><td>3          </td><td>0          </td><td>3          </td><td>0          </td><td>0.2114664  </td><td>2.899      </td><td>0          </td><td> 4         </td><td>...        </td><td>0.2895590  </td><td>4.843840   </td><td>10.902306  </td><td>0          </td><td>30.76333   </td><td>-0.47927367</td><td> 0.21621327</td><td>-0.08995467</td><td>-0.05025407</td><td>0          </td></tr>\n",
       "\t<tr><td>5          </td><td>4          </td><td>4          </td><td>0          </td><td>4          </td><td>0          </td><td>0.1519658  </td><td>5.114      </td><td>1          </td><td>10         </td><td>...        </td><td>0.2816755  </td><td>5.306436   </td><td>10.715837  </td><td>1          </td><td>43.12331   </td><td>-0.39556151</td><td>-0.08988765</td><td> 0.21593668</td><td>-0.06937263</td><td>0          </td></tr>\n",
       "</tbody>\n",
       "</table>\n"
      ],
      "text/latex": [
       "\\begin{tabular}{r|lllllllllllllllllllllllllllllllllllllllllllllllllllllllllllllllllllllllllllllllllllllllllllll}\n",
       " nSmallRings & nAromRings & nRingBlocks & nRings4 & nRings6 & nRings7 & tpsaEfficiency & XLogP & LipinskiFailures & nRotB & ... & BCUTc.1h & BCUTp.1l & BCUTp.1h & nBase & ATSm1 & ATSc2 & ATSc3 & ATSc4 & ATSc5 & nAcid\\\\\n",
       "\\hline\n",
       "\t 3           & 3           & 3           & 0           & 3           & 0           & 0.1824308   & 4.408       & 0           &  4          & ...         & 0.1932216   & 5.629999    &  9.956377   & 0           & 24.49443    & -0.06168846 & -0.04146567 &  0.03290936 & -0.01109213 & 0          \\\\\n",
       "\t 3           & 3           & 3           & 0           & 2           & 0           & 0.1712213   & 4.925       & 0           &  5          & ...         & 0.1484494   & 4.106970    & 12.279637   & 0           & 31.70974    & -0.18828574 &  0.09048650 & -0.04867077 & -0.02404886 & 0          \\\\\n",
       "\t 4           & 4           & 3           & 0           & 3           & 0           & 0.2114664   & 2.899       & 0           &  4          & ...         & 0.2895590   & 4.843840    & 10.902306   & 0           & 30.76333    & -0.47927367 &  0.21621327 & -0.08995467 & -0.05025407 & 0          \\\\\n",
       "\t 5           & 4           & 4           & 0           & 4           & 0           & 0.1519658   & 5.114       & 1           & 10          & ...         & 0.2816755   & 5.306436    & 10.715837   & 1           & 43.12331    & -0.39556151 & -0.08988765 &  0.21593668 & -0.06937263 & 0          \\\\\n",
       "\\end{tabular}\n"
      ],
      "text/markdown": [
       "\n",
       "| nSmallRings | nAromRings | nRingBlocks | nRings4 | nRings6 | nRings7 | tpsaEfficiency | XLogP | LipinskiFailures | nRotB | ... | BCUTc.1h | BCUTp.1l | BCUTp.1h | nBase | ATSm1 | ATSc2 | ATSc3 | ATSc4 | ATSc5 | nAcid |\n",
       "|---|---|---|---|---|---|---|---|---|---|---|---|---|---|---|---|---|---|---|---|---|\n",
       "| 3           | 3           | 3           | 0           | 3           | 0           | 0.1824308   | 4.408       | 0           |  4          | ...         | 0.1932216   | 5.629999    |  9.956377   | 0           | 24.49443    | -0.06168846 | -0.04146567 |  0.03290936 | -0.01109213 | 0           |\n",
       "| 3           | 3           | 3           | 0           | 2           | 0           | 0.1712213   | 4.925       | 0           |  5          | ...         | 0.1484494   | 4.106970    | 12.279637   | 0           | 31.70974    | -0.18828574 |  0.09048650 | -0.04867077 | -0.02404886 | 0           |\n",
       "| 4           | 4           | 3           | 0           | 3           | 0           | 0.2114664   | 2.899       | 0           |  4          | ...         | 0.2895590   | 4.843840    | 10.902306   | 0           | 30.76333    | -0.47927367 |  0.21621327 | -0.08995467 | -0.05025407 | 0           |\n",
       "| 5           | 4           | 4           | 0           | 4           | 0           | 0.1519658   | 5.114       | 1           | 10          | ...         | 0.2816755   | 5.306436    | 10.715837   | 1           | 43.12331    | -0.39556151 | -0.08988765 |  0.21593668 | -0.06937263 | 0           |\n",
       "\n"
      ],
      "text/plain": [
       "  nSmallRings nAromRings nRingBlocks nRings4 nRings6 nRings7 tpsaEfficiency\n",
       "1 3           3          3           0       3       0       0.1824308     \n",
       "2 3           3          3           0       2       0       0.1712213     \n",
       "3 4           4          3           0       3       0       0.2114664     \n",
       "4 5           4          4           0       4       0       0.1519658     \n",
       "  XLogP LipinskiFailures nRotB ... BCUTc.1h  BCUTp.1l BCUTp.1h  nBase ATSm1   \n",
       "1 4.408 0                 4    ... 0.1932216 5.629999  9.956377 0     24.49443\n",
       "2 4.925 0                 5    ... 0.1484494 4.106970 12.279637 0     31.70974\n",
       "3 2.899 0                 4    ... 0.2895590 4.843840 10.902306 0     30.76333\n",
       "4 5.114 1                10    ... 0.2816755 5.306436 10.715837 1     43.12331\n",
       "  ATSc2       ATSc3       ATSc4       ATSc5       nAcid\n",
       "1 -0.06168846 -0.04146567  0.03290936 -0.01109213 0    \n",
       "2 -0.18828574  0.09048650 -0.04867077 -0.02404886 0    \n",
       "3 -0.47927367  0.21621327 -0.08995467 -0.05025407 0    \n",
       "4 -0.39556151 -0.08988765  0.21593668 -0.06937263 0    "
      ]
     },
     "metadata": {},
     "output_type": "display_data"
    }
   ],
   "source": [
    "#utilizamos la media como umbral para definir las clases IC50LOW (1) e IC50HIGH (0)\n",
    "valorTeorico = 1000 # <1001 lo consideraremos IC50bajo\n",
    "#tmp <- ifelse(medicamentos$value < mean(medicamentos$value), 1, 0)\n",
    "vectorClase <- ifelse(medicamentos$value < valorTeorico, 1, 0)\n",
    "#vectorDescriptores$class <- vectorClase\n",
    "\n",
    "smiles=vectorDescriptores$CanonicalSmiles\n",
    "vectorDescriptores$CanonicalSmiles <- NULL\n",
    "\n",
    "#eliminamos las columnas que tienen una alta correlación\n",
    "correlationMatrix <- cor(vectorDescriptores)\n",
    "highlyCorrelated <- findCorrelation(correlationMatrix, cutoff = 0.75)\n",
    "vectorDescriptores <- vectorDescriptores[,-highlyCorrelated]\n",
    "\n",
    "head(vectorDescriptores,4)"
   ]
  },
  {
   "cell_type": "code",
   "execution_count": 43,
   "metadata": {},
   "outputs": [
    {
     "data": {
      "text/plain": [
       "Confusion Matrix and Statistics\n",
       "\n",
       "              validacionTest\n",
       "prediccionTest   0   1\n",
       "             0  46  51\n",
       "             1 118 497\n",
       "                                          \n",
       "               Accuracy : 0.7626          \n",
       "                 95% CI : (0.7296, 0.7935)\n",
       "    No Information Rate : 0.7697          \n",
       "    P-Value [Acc > NIR] : 0.6899          \n",
       "                                          \n",
       "                  Kappa : 0.2187          \n",
       "                                          \n",
       " Mcnemar's Test P-Value : 3.836e-07       \n",
       "                                          \n",
       "            Sensitivity : 0.28049         \n",
       "            Specificity : 0.90693         \n",
       "         Pos Pred Value : 0.47423         \n",
       "         Neg Pred Value : 0.80813         \n",
       "             Prevalence : 0.23034         \n",
       "         Detection Rate : 0.06461         \n",
       "   Detection Prevalence : 0.13624         \n",
       "      Balanced Accuracy : 0.59371         \n",
       "                                          \n",
       "       'Positive' Class : 0               \n",
       "                                          "
      ]
     },
     "metadata": {},
     "output_type": "display_data"
    },
    {
     "data": {
      "text/html": [
       "<strong>Accuracy:</strong> 0.758"
      ],
      "text/latex": [
       "\\textbf{Accuracy:} 0.758"
      ],
      "text/markdown": [
       "**Accuracy:** 0.758"
      ],
      "text/plain": [
       "Accuracy \n",
       "   0.758 "
      ]
     },
     "metadata": {},
     "output_type": "display_data"
    },
    {
     "data": {
      "text/html": [
       "<strong>Sensitivity:</strong> 0.246"
      ],
      "text/latex": [
       "\\textbf{Sensitivity:} 0.246"
      ],
      "text/markdown": [
       "**Sensitivity:** 0.246"
      ],
      "text/plain": [
       "Sensitivity \n",
       "      0.246 "
      ]
     },
     "metadata": {},
     "output_type": "display_data"
    },
    {
     "data": {
      "text/html": [
       "<strong>Specificity:</strong> 0.91"
      ],
      "text/latex": [
       "\\textbf{Specificity:} 0.91"
      ],
      "text/markdown": [
       "**Specificity:** 0.91"
      ],
      "text/plain": [
       "Specificity \n",
       "       0.91 "
      ]
     },
     "metadata": {},
     "output_type": "display_data"
    },
    {
     "data": {
      "text/html": [
       "<strong>Precision:</strong> 0.447"
      ],
      "text/latex": [
       "\\textbf{Precision:} 0.447"
      ],
      "text/markdown": [
       "**Precision:** 0.447"
      ],
      "text/plain": [
       "Precision \n",
       "    0.447 "
      ]
     },
     "metadata": {},
     "output_type": "display_data"
    }
   ],
   "source": [
    "#Clasificacion para knn\n",
    "n = 10 #número de modelos para hacer la media\n",
    "precisionMedia = 0\n",
    "sensibilidadMedia = 0\n",
    "especifidadMedia = 0\n",
    "exactitudMedia = 0\n",
    "for(i in 1:n) {\n",
    "    #version cutre de división de grupos\n",
    "    nEntrenamiento = round(0.8 * nrow(vectorDescriptores))\n",
    "    entrenamiento<-sample(1:nrow(vectorDescriptores),nEntrenamiento)\n",
    "    conjunto_entrenamiento<-vectorDescriptores[entrenamiento,]\n",
    "    conjunto_test<-vectorDescriptores[-entrenamiento,]\n",
    "    y = vectorClase[entrenamiento]\n",
    "    #Clasificacion para knn\n",
    "    prediccionTest <- knn(conjunto_entrenamiento,conjunto_test,cl=factor(y),k=7, l=0, prob=FALSE, use.all=TRUE)\n",
    "    #vectorDescriptores$class <- vectorClase\n",
    "    #Obtenemos las clases de los datos de entrenamiento\n",
    "    validacionTest <- vectorClase[-entrenamiento]\n",
    "    confmatrix <- caret::confusionMatrix(table(prediccionTest, validacionTest))\n",
    "    precisionMedia = precisionMedia + confmatrix$overall[1]\n",
    "    sensibilidadMedia = sensibilidadMedia + confmatrix$byClass[1]\n",
    "    especifidadMedia = especifidadMedia + confmatrix$byClass[2]\n",
    "    exactitudMedia = exactitudMedia + confmatrix$byClass[5]\n",
    "}\n",
    "confmatrix\n",
    "round((precisionMedia/n),3) #precisión\n",
    "round((sensibilidadMedia/n),3) #sensibilidad\n",
    "round((especifidadMedia/n),3) #especifidad\n",
    "round((exactitudMedia/n),3) #exactitud\n"
   ]
  },
  {
   "cell_type": "code",
   "execution_count": 44,
   "metadata": {
    "scrolled": true
   },
   "outputs": [
    {
     "data": {
      "text/plain": [
       "Confusion Matrix and Statistics\n",
       "\n",
       "              validacionTest\n",
       "prediccionTest   0   1\n",
       "             0  89  30\n",
       "             1  86 507\n",
       "                                          \n",
       "               Accuracy : 0.8371          \n",
       "                 95% CI : (0.8079, 0.8635)\n",
       "    No Information Rate : 0.7542          \n",
       "    P-Value [Acc > NIR] : 5.31e-08        \n",
       "                                          \n",
       "                  Kappa : 0.5074          \n",
       "                                          \n",
       " Mcnemar's Test P-Value : 3.28e-07        \n",
       "                                          \n",
       "            Sensitivity : 0.5086          \n",
       "            Specificity : 0.9441          \n",
       "         Pos Pred Value : 0.7479          \n",
       "         Neg Pred Value : 0.8550          \n",
       "             Prevalence : 0.2458          \n",
       "         Detection Rate : 0.1250          \n",
       "   Detection Prevalence : 0.1671          \n",
       "      Balanced Accuracy : 0.7264          \n",
       "                                          \n",
       "       'Positive' Class : 0               \n",
       "                                          "
      ]
     },
     "metadata": {},
     "output_type": "display_data"
    },
    {
     "data": {
      "text/html": [
       "<strong>Accuracy:</strong> 0.836"
      ],
      "text/latex": [
       "\\textbf{Accuracy:} 0.836"
      ],
      "text/markdown": [
       "**Accuracy:** 0.836"
      ],
      "text/plain": [
       "Accuracy \n",
       "   0.836 "
      ]
     },
     "metadata": {},
     "output_type": "display_data"
    },
    {
     "data": {
      "text/html": [
       "<strong>Sensitivity:</strong> 0.512"
      ],
      "text/latex": [
       "\\textbf{Sensitivity:} 0.512"
      ],
      "text/markdown": [
       "**Sensitivity:** 0.512"
      ],
      "text/plain": [
       "Sensitivity \n",
       "      0.512 "
      ]
     },
     "metadata": {},
     "output_type": "display_data"
    },
    {
     "data": {
      "text/html": [
       "<strong>Specificity:</strong> 0.936"
      ],
      "text/latex": [
       "\\textbf{Specificity:} 0.936"
      ],
      "text/markdown": [
       "**Specificity:** 0.936"
      ],
      "text/plain": [
       "Specificity \n",
       "      0.936 "
      ]
     },
     "metadata": {},
     "output_type": "display_data"
    },
    {
     "data": {
      "text/html": [
       "<strong>Precision:</strong> 0.71"
      ],
      "text/latex": [
       "\\textbf{Precision:} 0.71"
      ],
      "text/markdown": [
       "**Precision:** 0.71"
      ],
      "text/plain": [
       "Precision \n",
       "     0.71 "
      ]
     },
     "metadata": {},
     "output_type": "display_data"
    }
   ],
   "source": [
    "#Clasificacion para random forest\n",
    "n = 2 #número de modelos para hacer la media\n",
    "precisionMedia = 0\n",
    "sensibilidadMedia = 0\n",
    "especifidadMedia = 0\n",
    "exactitudMedia = 0\n",
    "for(i in 1:n) {\n",
    "    #version cutre de división de grupos\n",
    "    nEntrenamiento = round(0.8 * nrow(vectorDescriptores))\n",
    "    entrenamiento<-sample(1:nrow(vectorDescriptores),nEntrenamiento)\n",
    "    conjunto_entrenamiento<-vectorDescriptores[entrenamiento,]\n",
    "    conjunto_test<-vectorDescriptores[-entrenamiento,]\n",
    "    y = as.factor(vectorClase[entrenamiento])\n",
    "    #Clasificacion para random forest\n",
    "    conjunto_entrenamiento$clase <- y\n",
    "    modeloRF <- randomForest(clase ~ . , data = conjunto_entrenamiento, mtry=9)\n",
    "    prediccionTest <- predict(modeloRF, conjunto_test, type = \"class\") \n",
    "    #Obtenemos las clases de los datos de entrenamiento\n",
    "    validacionTest <- vectorClase[-entrenamiento]\n",
    "    #caret::confusionMatrix(predicho, valoresReales)\n",
    "    #tabla <- table(predicho, validacionTest)\n",
    "    #tabla\n",
    "    confmatrix <- caret::confusionMatrix(table(prediccionTest, validacionTest))\n",
    "    precisionMedia = precisionMedia + confmatrix$overall[1]\n",
    "    sensibilidadMedia = sensibilidadMedia + confmatrix$byClass[1]\n",
    "    especifidadMedia = especifidadMedia + confmatrix$byClass[2]\n",
    "    exactitudMedia = exactitudMedia + confmatrix$byClass[5]\n",
    "}\n",
    "confmatrix\n",
    "round((precisionMedia/n),3) #precisión\n",
    "round((sensibilidadMedia/n),3) #sensibilidad\n",
    "round((especifidadMedia/n),3) #especifidad\n",
    "round((exactitudMedia/n),3) #exactitud"
   ]
  },
  {
   "cell_type": "code",
   "execution_count": 45,
   "metadata": {},
   "outputs": [
    {
     "data": {
      "text/plain": [
       "Confusion Matrix and Statistics\n",
       "\n",
       "              validacionTest\n",
       "prediccionTest   0   1\n",
       "             0  45  22\n",
       "             1  95 550\n",
       "                                          \n",
       "               Accuracy : 0.8357          \n",
       "                 95% CI : (0.8064, 0.8622)\n",
       "    No Information Rate : 0.8034          \n",
       "    P-Value [Acc > NIR] : 0.01546         \n",
       "                                          \n",
       "                  Kappa : 0.3523          \n",
       "                                          \n",
       " Mcnemar's Test P-Value : 2.806e-11       \n",
       "                                          \n",
       "            Sensitivity : 0.3214          \n",
       "            Specificity : 0.9615          \n",
       "         Pos Pred Value : 0.6716          \n",
       "         Neg Pred Value : 0.8527          \n",
       "             Prevalence : 0.1966          \n",
       "         Detection Rate : 0.0632          \n",
       "   Detection Prevalence : 0.0941          \n",
       "      Balanced Accuracy : 0.6415          \n",
       "                                          \n",
       "       'Positive' Class : 0               \n",
       "                                          "
      ]
     },
     "metadata": {},
     "output_type": "display_data"
    },
    {
     "data": {
      "text/html": [
       "<strong>Accuracy:</strong> 0.81"
      ],
      "text/latex": [
       "\\textbf{Accuracy:} 0.81"
      ],
      "text/markdown": [
       "**Accuracy:** 0.81"
      ],
      "text/plain": [
       "Accuracy \n",
       "    0.81 "
      ]
     },
     "metadata": {},
     "output_type": "display_data"
    },
    {
     "data": {
      "text/html": [
       "<strong>Sensitivity:</strong> 0.293"
      ],
      "text/latex": [
       "\\textbf{Sensitivity:} 0.293"
      ],
      "text/markdown": [
       "**Sensitivity:** 0.293"
      ],
      "text/plain": [
       "Sensitivity \n",
       "      0.293 "
      ]
     },
     "metadata": {},
     "output_type": "display_data"
    },
    {
     "data": {
      "text/html": [
       "<strong>Specificity:</strong> 0.958"
      ],
      "text/latex": [
       "\\textbf{Specificity:} 0.958"
      ],
      "text/markdown": [
       "**Specificity:** 0.958"
      ],
      "text/plain": [
       "Specificity \n",
       "      0.958 "
      ]
     },
     "metadata": {},
     "output_type": "display_data"
    },
    {
     "data": {
      "text/html": [
       "<strong>Precision:</strong> 0.663"
      ],
      "text/latex": [
       "\\textbf{Precision:} 0.663"
      ],
      "text/markdown": [
       "**Precision:** 0.663"
      ],
      "text/plain": [
       "Precision \n",
       "    0.663 "
      ]
     },
     "metadata": {},
     "output_type": "display_data"
    }
   ],
   "source": [
    "#Clasificacion para SVM\n",
    "n = 10 #número de modelos para hacer la media\n",
    "precisionMedia = 0\n",
    "sensibilidadMedia = 0\n",
    "especifidadMedia = 0\n",
    "exactitudMedia = 0\n",
    "for(i in 1:n) {\n",
    "    #version cutre de división de grupos\n",
    "    nEntrenamiento = round(0.8 * nrow(vectorDescriptores))\n",
    "    entrenamiento<-sample(1:nrow(vectorDescriptores),nEntrenamiento)\n",
    "    conjunto_entrenamiento<-vectorDescriptores[entrenamiento,]\n",
    "    conjunto_test<-vectorDescriptores[-entrenamiento,]\n",
    "    y = as.factor(vectorClase[entrenamiento])\n",
    "    #Clasificacion para random forest\n",
    "    conjunto_entrenamiento$clase <- y\n",
    "    suppressWarnings(modeloSVM <- svm(clase ~ . , data = conjunto_entrenamiento, type = \"C-classification\", kernel = \"radial\",degree = 3, gamma = 0.25))\n",
    "    prediccionTest <- predict(modeloSVM, conjunto_test, type = \"class\") \n",
    "    #Obtenemos las clases de los datos de entrenamiento\n",
    "    validacionTest <- vectorClase[-entrenamiento]\n",
    "    #caret::confusionMatrix(predicho, valoresReales)\n",
    "    #tabla <- table(predicho, validacionTest)\n",
    "    #tabla\n",
    "    confmatrix <- caret::confusionMatrix(table(prediccionTest, validacionTest))\n",
    "    precisionMedia = precisionMedia + confmatrix$overall[1]\n",
    "    sensibilidadMedia = sensibilidadMedia + confmatrix$byClass[1]\n",
    "    especifidadMedia = especifidadMedia + confmatrix$byClass[2]\n",
    "    exactitudMedia = exactitudMedia + confmatrix$byClass[5]\n",
    "}\n",
    "confmatrix\n",
    "round((precisionMedia/n),3) #precisión\n",
    "round((sensibilidadMedia/n),3) #sensibilidad\n",
    "round((especifidadMedia/n),3) #especifidad\n",
    "round((exactitudMedia/n),3) #exactitud"
   ]
  },
  {
   "cell_type": "code",
   "execution_count": 46,
   "metadata": {},
   "outputs": [
    {
     "name": "stderr",
     "output_type": "stream",
     "text": [
      "Warning message:\n",
      "\"glm.fit: fitted probabilities numerically 0 or 1 occurred\"Warning message in predict.lm(object, newdata, se.fit, scale = 1, type = if (type == :\n",
      "\"prediction from a rank-deficient fit may be misleading\"Warning message:\n",
      "\"glm.fit: fitted probabilities numerically 0 or 1 occurred\"Warning message in predict.lm(object, newdata, se.fit, scale = 1, type = if (type == :\n",
      "\"prediction from a rank-deficient fit may be misleading\""
     ]
    },
    {
     "data": {
      "text/plain": [
       "Confusion Matrix and Statistics\n",
       "\n",
       "              validacionTest\n",
       "prediccionTest   0   1\n",
       "             0  61  32\n",
       "             1 112 507\n",
       "                                          \n",
       "               Accuracy : 0.7978          \n",
       "                 95% CI : (0.7663, 0.8267)\n",
       "    No Information Rate : 0.757           \n",
       "    P-Value [Acc > NIR] : 0.005651        \n",
       "                                          \n",
       "                  Kappa : 0.3478          \n",
       "                                          \n",
       " Mcnemar's Test P-Value : 4.6e-11         \n",
       "                                          \n",
       "            Sensitivity : 0.35260         \n",
       "            Specificity : 0.94063         \n",
       "         Pos Pred Value : 0.65591         \n",
       "         Neg Pred Value : 0.81906         \n",
       "             Prevalence : 0.24298         \n",
       "         Detection Rate : 0.08567         \n",
       "   Detection Prevalence : 0.13062         \n",
       "      Balanced Accuracy : 0.64662         \n",
       "                                          \n",
       "       'Positive' Class : 0               \n",
       "                                          "
      ]
     },
     "metadata": {},
     "output_type": "display_data"
    },
    {
     "data": {
      "text/html": [
       "<strong>Accuracy:</strong> 0.803"
      ],
      "text/latex": [
       "\\textbf{Accuracy:} 0.803"
      ],
      "text/markdown": [
       "**Accuracy:** 0.803"
      ],
      "text/plain": [
       "Accuracy \n",
       "   0.803 "
      ]
     },
     "metadata": {},
     "output_type": "display_data"
    },
    {
     "data": {
      "text/html": [
       "<strong>Sensitivity:</strong> 0.381"
      ],
      "text/latex": [
       "\\textbf{Sensitivity:} 0.381"
      ],
      "text/markdown": [
       "**Sensitivity:** 0.381"
      ],
      "text/plain": [
       "Sensitivity \n",
       "      0.381 "
      ]
     },
     "metadata": {},
     "output_type": "display_data"
    },
    {
     "data": {
      "text/html": [
       "<strong>Specificity:</strong> 0.932"
      ],
      "text/latex": [
       "\\textbf{Specificity:} 0.932"
      ],
      "text/markdown": [
       "**Specificity:** 0.932"
      ],
      "text/plain": [
       "Specificity \n",
       "      0.932 "
      ]
     },
     "metadata": {},
     "output_type": "display_data"
    },
    {
     "data": {
      "text/html": [
       "<strong>Precision:</strong> 0.632"
      ],
      "text/latex": [
       "\\textbf{Precision:} 0.632"
      ],
      "text/markdown": [
       "**Precision:** 0.632"
      ],
      "text/plain": [
       "Precision \n",
       "    0.632 "
      ]
     },
     "metadata": {},
     "output_type": "display_data"
    }
   ],
   "source": [
    "#Clasificacion para regresión logística\n",
    "n = 2 #número de modelos para hacer la media\n",
    "precisionMedia = 0\n",
    "sensibilidadMedia = 0\n",
    "especifidadMedia = 0\n",
    "exactitudMedia = 0\n",
    "for(i in 1:n) {\n",
    "    #version cutre de división de grupos\n",
    "    nEntrenamiento = round(0.8 * nrow(vectorDescriptores))\n",
    "    entrenamiento<-sample(1:nrow(vectorDescriptores),nEntrenamiento)\n",
    "    conjunto_entrenamiento<-vectorDescriptores[entrenamiento,]\n",
    "    conjunto_test<-vectorDescriptores[-entrenamiento,]\n",
    "    y = vectorClase[entrenamiento]\n",
    "    #Clasificacion para regresión logística\n",
    "    conjunto_entrenamiento$clase <- y\n",
    "    modelo <- glm(conjunto_entrenamiento$clase ~ .,\n",
    "                family = binomial(logit), data=conjunto_entrenamiento)\n",
    "    prediccionTest<-predict(modelo, conjunto_test, type=\"response\")\n",
    "    prediccionTest <- ifelse(prediccionTest > 0.5, 1, 0)\n",
    "    #vectorDescriptores$class <- vectorClase\n",
    "    #Obtenemos las clases de los datos de entrenamiento\n",
    "    validacionTest <- vectorClase[-entrenamiento]\n",
    "    confmatrix <- caret::confusionMatrix(table(prediccionTest, validacionTest))\n",
    "    precisionMedia = precisionMedia + confmatrix$overall[1]\n",
    "    sensibilidadMedia = sensibilidadMedia + confmatrix$byClass[1]\n",
    "    especifidadMedia = especifidadMedia + confmatrix$byClass[2]\n",
    "    exactitudMedia = exactitudMedia + confmatrix$byClass[5]\n",
    "}\n",
    "confmatrix\n",
    "round((precisionMedia/n),3) #precisión\n",
    "round((sensibilidadMedia/n),3) #sensibilidad\n",
    "round((especifidadMedia/n),3) #especifidad\n",
    "round((exactitudMedia/n),3) #exactitud"
   ]
  },
  {
   "cell_type": "code",
   "execution_count": null,
   "metadata": {},
   "outputs": [],
   "source": []
  }
 ],
 "metadata": {
  "kernelspec": {
   "display_name": "R",
   "language": "R",
   "name": "ir"
  },
  "language_info": {
   "codemirror_mode": "r",
   "file_extension": ".r",
   "mimetype": "text/x-r-source",
   "name": "R",
   "pygments_lexer": "r",
   "version": "3.6.1"
  }
 },
 "nbformat": 4,
 "nbformat_minor": 2
}
