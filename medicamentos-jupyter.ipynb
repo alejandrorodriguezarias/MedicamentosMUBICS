{
 "cells": [
  {
   "cell_type": "markdown",
   "metadata": {},
   "source": [
    "# Medicamentos MUBICS"
   ]
  },
  {
   "cell_type": "code",
   "execution_count": 89,
   "metadata": {},
   "outputs": [
    {
     "name": "stderr",
     "output_type": "stream",
     "text": [
      "randomForest 4.6-14\n",
      "Type rfNews() to see new features/changes/bug fixes.\n",
      "\n",
      "Attaching package: 'randomForest'\n",
      "\n",
      "The following object is masked from 'package:ggplot2':\n",
      "\n",
      "    margin\n",
      "\n",
      "The following object is masked from 'package:dplyr':\n",
      "\n",
      "    combine\n",
      "\n"
     ]
    },
    {
     "data": {
      "text/html": [
       "<table>\n",
       "<thead><tr><th scope=col>CMPD_CHEMBLID</th><th scope=col>CANONICAL_SMILES</th><th scope=col>PROTEIN_ACCESSION</th><th scope=col>STANDARD_TYPE_UNITSj</th><th scope=col>STANDARD_VALUE</th><th scope=col>ASSAY_ORGANISM</th><th scope=col>ORGANISM</th></tr></thead>\n",
       "<tbody>\n",
       "\t<tr><td>CHEMBL117109                                          </td><td>Fc1ccc(cc1)c2nc3ccccn3c2C4=NN(C(=O)C=C4)c5c(Cl)cccc5Cl</td><td>O15264                                                </td><td>Inhibition (%)                                        </td><td>  60                                                  </td><td>Homo sapiens                                          </td><td>Homo sapiens                                          </td></tr>\n",
       "\t<tr><td>CHEMBL357732                                          </td><td>Cc1ccccc1C(=O)c2ccc(Nc3ccccc3N)cc2                    </td><td>O15264                                                </td><td>IC50 (nM)                                             </td><td>  47                                                  </td><td>Homo sapiens                                          </td><td>Homo sapiens                                          </td></tr>\n",
       "\t<tr><td>CHEMBL325597                                          </td><td>CCCn1c(SC)nc(c2ccc(F)cc2)c1c3ccncc3                   </td><td>O15264                                                </td><td>IC50 (nM)                                             </td><td>1300                                                  </td><td>Homo sapiens                                          </td><td>Homo sapiens                                          </td></tr>\n",
       "\t<tr><td>CHEMBL94487                                           </td><td>CC(C)(C)c1onc(NC(=O)Nc2ccc(Oc3ccccc3)cc2)c1           </td><td>O15264                                                </td><td>IC50 (nM)                                             </td><td> 360                                                  </td><td>Escherichia coli                                      </td><td>Homo sapiens                                          </td></tr>\n",
       "</tbody>\n",
       "</table>\n"
      ],
      "text/latex": [
       "\\begin{tabular}{r|lllllll}\n",
       " CMPD\\_CHEMBLID & CANONICAL\\_SMILES & PROTEIN\\_ACCESSION & STANDARD\\_TYPE\\_UNITSj & STANDARD\\_VALUE & ASSAY\\_ORGANISM & ORGANISM\\\\\n",
       "\\hline\n",
       "\t CHEMBL117109                                           & Fc1ccc(cc1)c2nc3ccccn3c2C4=NN(C(=O)C=C4)c5c(Cl)cccc5Cl & O15264                                                 & Inhibition (\\%)                                       &   60                                                   & Homo sapiens                                           & Homo sapiens                                          \\\\\n",
       "\t CHEMBL357732                                           & Cc1ccccc1C(=O)c2ccc(Nc3ccccc3N)cc2                     & O15264                                                 & IC50 (nM)                                              &   47                                                   & Homo sapiens                                           & Homo sapiens                                          \\\\\n",
       "\t CHEMBL325597                                           & CCCn1c(SC)nc(c2ccc(F)cc2)c1c3ccncc3                    & O15264                                                 & IC50 (nM)                                              & 1300                                                   & Homo sapiens                                           & Homo sapiens                                          \\\\\n",
       "\t CHEMBL94487                                            & CC(C)(C)c1onc(NC(=O)Nc2ccc(Oc3ccccc3)cc2)c1            & O15264                                                 & IC50 (nM)                                              &  360                                                   & Escherichia coli                                       & Homo sapiens                                          \\\\\n",
       "\\end{tabular}\n"
      ],
      "text/markdown": [
       "\n",
       "| CMPD_CHEMBLID | CANONICAL_SMILES | PROTEIN_ACCESSION | STANDARD_TYPE_UNITSj | STANDARD_VALUE | ASSAY_ORGANISM | ORGANISM |\n",
       "|---|---|---|---|---|---|---|\n",
       "| CHEMBL117109                                           | Fc1ccc(cc1)c2nc3ccccn3c2C4=NN(C(=O)C=C4)c5c(Cl)cccc5Cl | O15264                                                 | Inhibition (%)                                         |   60                                                   | Homo sapiens                                           | Homo sapiens                                           |\n",
       "| CHEMBL357732                                           | Cc1ccccc1C(=O)c2ccc(Nc3ccccc3N)cc2                     | O15264                                                 | IC50 (nM)                                              |   47                                                   | Homo sapiens                                           | Homo sapiens                                           |\n",
       "| CHEMBL325597                                           | CCCn1c(SC)nc(c2ccc(F)cc2)c1c3ccncc3                    | O15264                                                 | IC50 (nM)                                              | 1300                                                   | Homo sapiens                                           | Homo sapiens                                           |\n",
       "| CHEMBL94487                                            | CC(C)(C)c1onc(NC(=O)Nc2ccc(Oc3ccccc3)cc2)c1            | O15264                                                 | IC50 (nM)                                              |  360                                                   | Escherichia coli                                       | Homo sapiens                                           |\n",
       "\n"
      ],
      "text/plain": [
       "  CMPD_CHEMBLID CANONICAL_SMILES                                      \n",
       "1 CHEMBL117109  Fc1ccc(cc1)c2nc3ccccn3c2C4=NN(C(=O)C=C4)c5c(Cl)cccc5Cl\n",
       "2 CHEMBL357732  Cc1ccccc1C(=O)c2ccc(Nc3ccccc3N)cc2                    \n",
       "3 CHEMBL325597  CCCn1c(SC)nc(c2ccc(F)cc2)c1c3ccncc3                   \n",
       "4 CHEMBL94487   CC(C)(C)c1onc(NC(=O)Nc2ccc(Oc3ccccc3)cc2)c1           \n",
       "  PROTEIN_ACCESSION STANDARD_TYPE_UNITSj STANDARD_VALUE ASSAY_ORGANISM  \n",
       "1 O15264            Inhibition (%)         60           Homo sapiens    \n",
       "2 O15264            IC50 (nM)              47           Homo sapiens    \n",
       "3 O15264            IC50 (nM)            1300           Homo sapiens    \n",
       "4 O15264            IC50 (nM)             360           Escherichia coli\n",
       "  ORGANISM    \n",
       "1 Homo sapiens\n",
       "2 Homo sapiens\n",
       "3 Homo sapiens\n",
       "4 Homo sapiens"
      ]
     },
     "metadata": {},
     "output_type": "display_data"
    }
   ],
   "source": [
    "#install.packages(\"class\")\n",
    "#install.packages(\"caret\")\n",
    "#install.packages(\"codetools\")\n",
    "library(dplyr)\n",
    "library(readxl)\n",
    "library(randomForest)\n",
    "library(class)\n",
    "library(caret)\n",
    "#Obtemos la base de datos original\n",
    "dataset <- read_excel(\"dataset_Chembl_Cytokines.xlsx\")\n",
    "head(dataset, 4)\n"
   ]
  },
  {
   "cell_type": "code",
   "execution_count": 10,
   "metadata": {},
   "outputs": [
    {
     "data": {
      "text/html": [
       "<table>\n",
       "<thead><tr><th scope=col>chemblid</th><th scope=col>smiles</th><th scope=col>value</th></tr></thead>\n",
       "<tbody>\n",
       "\t<tr><td>CHEMBL357732                                                  </td><td>Cc1ccccc1C(=O)c2ccc(Nc3ccccc3N)cc2                            </td><td>  47                                                          </td></tr>\n",
       "\t<tr><td>CHEMBL325597                                                  </td><td>CCCn1c(SC)nc(c2ccc(F)cc2)c1c3ccncc3                           </td><td>1300                                                          </td></tr>\n",
       "\t<tr><td>CHEMBL425494                                                  </td><td>COc1ccc(N2C(=O)Nc3c2ncnc3c4ccccc4C)c(OC)c1                    </td><td>5200                                                          </td></tr>\n",
       "\t<tr><td>CHEMBL103667                                                  </td><td>Cc1ccc(cc1)n2nc(cc2NC(=O)Nc3ccc(OCCN4CCOCC4)c5ccccc35)C(C)(C)C</td><td>   9                                                          </td></tr>\n",
       "</tbody>\n",
       "</table>\n"
      ],
      "text/latex": [
       "\\begin{tabular}{r|lll}\n",
       " chemblid & smiles & value\\\\\n",
       "\\hline\n",
       "\t CHEMBL357732                                                   & Cc1ccccc1C(=O)c2ccc(Nc3ccccc3N)cc2                             &   47                                                          \\\\\n",
       "\t CHEMBL325597                                                   & CCCn1c(SC)nc(c2ccc(F)cc2)c1c3ccncc3                            & 1300                                                          \\\\\n",
       "\t CHEMBL425494                                                   & COc1ccc(N2C(=O)Nc3c2ncnc3c4ccccc4C)c(OC)c1                     & 5200                                                          \\\\\n",
       "\t CHEMBL103667                                                   & Cc1ccc(cc1)n2nc(cc2NC(=O)Nc3ccc(OCCN4CCOCC4)c5ccccc35)C(C)(C)C &    9                                                          \\\\\n",
       "\\end{tabular}\n"
      ],
      "text/markdown": [
       "\n",
       "| chemblid | smiles | value |\n",
       "|---|---|---|\n",
       "| CHEMBL357732                                                   | Cc1ccccc1C(=O)c2ccc(Nc3ccccc3N)cc2                             |   47                                                           |\n",
       "| CHEMBL325597                                                   | CCCn1c(SC)nc(c2ccc(F)cc2)c1c3ccncc3                            | 1300                                                           |\n",
       "| CHEMBL425494                                                   | COc1ccc(N2C(=O)Nc3c2ncnc3c4ccccc4C)c(OC)c1                     | 5200                                                           |\n",
       "| CHEMBL103667                                                   | Cc1ccc(cc1)n2nc(cc2NC(=O)Nc3ccc(OCCN4CCOCC4)c5ccccc35)C(C)(C)C |    9                                                           |\n",
       "\n"
      ],
      "text/plain": [
       "  chemblid     smiles                                                        \n",
       "1 CHEMBL357732 Cc1ccccc1C(=O)c2ccc(Nc3ccccc3N)cc2                            \n",
       "2 CHEMBL325597 CCCn1c(SC)nc(c2ccc(F)cc2)c1c3ccncc3                           \n",
       "3 CHEMBL425494 COc1ccc(N2C(=O)Nc3c2ncnc3c4ccccc4C)c(OC)c1                    \n",
       "4 CHEMBL103667 Cc1ccc(cc1)n2nc(cc2NC(=O)Nc3ccc(OCCN4CCOCC4)c5ccccc35)C(C)(C)C\n",
       "  value\n",
       "1   47 \n",
       "2 1300 \n",
       "3 5200 \n",
       "4    9 "
      ]
     },
     "metadata": {},
     "output_type": "display_data"
    }
   ],
   "source": [
    "#Filtramos la base de datos para tener solo los valores referentes a IC50 y Homo Sapiens\n",
    "medicamentos<- filter(dataset,dataset$STANDARD_TYPE_UNITSj==\"IC50 (nM)\")\n",
    "medicamentos<- filter(medicamentos,medicamentos$ASSAY_ORGANISM==\"Homo sapiens\")\n",
    "#Creamos un data frame con las columnas id, smiles y value\n",
    "medicamentos <- data.frame(\"chemblid\"= medicamentos$CMPD_CHEMBLID,\n",
    "                           \"smiles\" = medicamentos$CANONICAL_SMILES,  \"value\" = medicamentos$STANDARD_VALUE)\n",
    "head(medicamentos, 4)\n",
    "#PONER COMENTADAS LAS LINEAS PARA OBTENER LOS MARCADORES"
   ]
  },
  {
   "cell_type": "code",
   "execution_count": null,
   "metadata": {},
   "outputs": [],
   "source": [
    "#Obtenemos los SMILES y calculamos los descriptores\n",
    "#smiles <- medicamentos$smiles\n",
    "#vectorDescriptores <- data.frame()\n",
    "#library(rcdk)\n",
    "#for(i in 1:length(smiles)) {\n",
    "#  anle138b = parse.smiles(as.vector(smiles[i]))\n",
    "#  descriptors = get.desc.names(type=\"all\")\n",
    "#  descriptorsvalues = eval.desc(anle138b,descriptors)\n",
    "#  vectorDescriptores <- rbind(vectorDescriptores,descriptorsvalues)\n",
    "#}"
   ]
  },
  {
   "cell_type": "code",
   "execution_count": 95,
   "metadata": {
    "scrolled": true
   },
   "outputs": [
    {
     "data": {
      "text/html": [
       "<table>\n",
       "<thead><tr><th scope=col>CanonicalSmiles</th><th scope=col>nSmallRings</th><th scope=col>nAromRings</th><th scope=col>nRingBlocks</th><th scope=col>nAromBlocks</th><th scope=col>nRings3</th><th scope=col>nRings4</th><th scope=col>nRings5</th><th scope=col>nRings6</th><th scope=col>nRings7</th><th scope=col>...</th><th scope=col>ATSm1</th><th scope=col>ATSm2</th><th scope=col>ATSm3</th><th scope=col>ATSm4</th><th scope=col>ATSm5</th><th scope=col>nAtom</th><th scope=col>nAromBond</th><th scope=col>naAromAtom</th><th scope=col>apol</th><th scope=col>nAcid</th></tr></thead>\n",
       "<tbody>\n",
       "\t<tr><td>Cc1ccccc1C(=O)c2ccc(Nc3ccccc3N)cc2                            </td><td>3                                                             </td><td>3                                                             </td><td>3                                                             </td><td>3                                                             </td><td>0                                                             </td><td>0                                                             </td><td>0                                                             </td><td>3                                                             </td><td>0                                                             </td><td>...                                                           </td><td>24.49443                                                      </td><td>25.83064                                                      </td><td>35.66128                                                      </td><td>37.68544                                                      </td><td>31.32519                                                      </td><td>41                                                            </td><td>18                                                            </td><td>18                                                            </td><td>50.20427                                                      </td><td>0                                                             </td></tr>\n",
       "\t<tr><td>CCCn1c(SC)nc(c2ccc(F)cc2)c1c3ccncc3                           </td><td>3                                                             </td><td>3                                                             </td><td>3                                                             </td><td>3                                                             </td><td>0                                                             </td><td>0                                                             </td><td>1                                                             </td><td>2                                                             </td><td>0                                                             </td><td>...                                                           </td><td>31.70974                                                      </td><td>30.08463                                                      </td><td>40.91373                                                      </td><td>44.00093                                                      </td><td>44.25296                                                      </td><td>41                                                            </td><td>17                                                            </td><td>17                                                            </td><td>50.43927                                                      </td><td>0                                                             </td></tr>\n",
       "\t<tr><td>COc1ccc(N2C(=O)Nc3c2ncnc3c4ccccc4C)c(OC)c1                    </td><td>4                                                             </td><td>4                                                             </td><td>3                                                             </td><td>3                                                             </td><td>0                                                             </td><td>0                                                             </td><td>1                                                             </td><td>3                                                             </td><td>0                                                             </td><td>...                                                           </td><td>30.76333                                                      </td><td>33.15610                                                      </td><td>47.84469                                                      </td><td>53.59225                                                      </td><td>54.50528                                                      </td><td>45                                                            </td><td>22                                                            </td><td>21                                                            </td><td>54.00827                                                      </td><td>0                                                             </td></tr>\n",
       "\t<tr><td>Cc1ccc(cc1)n2nc(cc2NC(=O)Nc3ccc(OCCN4CCOCC4)c5ccccc35)C(C)(C)C</td><td>5                                                             </td><td>4                                                             </td><td>4                                                             </td><td>3                                                             </td><td>0                                                             </td><td>0                                                             </td><td>1                                                             </td><td>4                                                             </td><td>0                                                             </td><td>...                                                           </td><td>43.12331                                                      </td><td>46.68226                                                      </td><td>66.81389                                                      </td><td>66.78627                                                      </td><td>64.72736                                                      </td><td>76                                                            </td><td>22                                                            </td><td>21                                                            </td><td>87.13734                                                      </td><td>0                                                             </td></tr>\n",
       "</tbody>\n",
       "</table>\n"
      ],
      "text/latex": [
       "\\begin{tabular}{r|lllllllllllllllllllllllllllllllllllllllllllllllllllllllllllllllllllllllllllllllllllllllllllllllllllllllllllllllllllllllllllllllllllllllllllllllllllllllllllllllllllllllllllllllllllllllllllllllllllllllllllllll}\n",
       " CanonicalSmiles & nSmallRings & nAromRings & nRingBlocks & nAromBlocks & nRings3 & nRings4 & nRings5 & nRings6 & nRings7 & ... & ATSm1 & ATSm2 & ATSm3 & ATSm4 & ATSm5 & nAtom & nAromBond & naAromAtom & apol & nAcid\\\\\n",
       "\\hline\n",
       "\t Cc1ccccc1C(=O)c2ccc(Nc3ccccc3N)cc2                             & 3                                                              & 3                                                              & 3                                                              & 3                                                              & 0                                                              & 0                                                              & 0                                                              & 3                                                              & 0                                                              & ...                                                            & 24.49443                                                       & 25.83064                                                       & 35.66128                                                       & 37.68544                                                       & 31.32519                                                       & 41                                                             & 18                                                             & 18                                                             & 50.20427                                                       & 0                                                             \\\\\n",
       "\t CCCn1c(SC)nc(c2ccc(F)cc2)c1c3ccncc3                            & 3                                                              & 3                                                              & 3                                                              & 3                                                              & 0                                                              & 0                                                              & 1                                                              & 2                                                              & 0                                                              & ...                                                            & 31.70974                                                       & 30.08463                                                       & 40.91373                                                       & 44.00093                                                       & 44.25296                                                       & 41                                                             & 17                                                             & 17                                                             & 50.43927                                                       & 0                                                             \\\\\n",
       "\t COc1ccc(N2C(=O)Nc3c2ncnc3c4ccccc4C)c(OC)c1                     & 4                                                              & 4                                                              & 3                                                              & 3                                                              & 0                                                              & 0                                                              & 1                                                              & 3                                                              & 0                                                              & ...                                                            & 30.76333                                                       & 33.15610                                                       & 47.84469                                                       & 53.59225                                                       & 54.50528                                                       & 45                                                             & 22                                                             & 21                                                             & 54.00827                                                       & 0                                                             \\\\\n",
       "\t Cc1ccc(cc1)n2nc(cc2NC(=O)Nc3ccc(OCCN4CCOCC4)c5ccccc35)C(C)(C)C & 5                                                              & 4                                                              & 4                                                              & 3                                                              & 0                                                              & 0                                                              & 1                                                              & 4                                                              & 0                                                              & ...                                                            & 43.12331                                                       & 46.68226                                                       & 66.81389                                                       & 66.78627                                                       & 64.72736                                                       & 76                                                             & 22                                                             & 21                                                             & 87.13734                                                       & 0                                                             \\\\\n",
       "\\end{tabular}\n"
      ],
      "text/markdown": [
       "\n",
       "| CanonicalSmiles | nSmallRings | nAromRings | nRingBlocks | nAromBlocks | nRings3 | nRings4 | nRings5 | nRings6 | nRings7 | ... | ATSm1 | ATSm2 | ATSm3 | ATSm4 | ATSm5 | nAtom | nAromBond | naAromAtom | apol | nAcid |\n",
       "|---|---|---|---|---|---|---|---|---|---|---|---|---|---|---|---|---|---|---|---|---|\n",
       "| Cc1ccccc1C(=O)c2ccc(Nc3ccccc3N)cc2                             | 3                                                              | 3                                                              | 3                                                              | 3                                                              | 0                                                              | 0                                                              | 0                                                              | 3                                                              | 0                                                              | ...                                                            | 24.49443                                                       | 25.83064                                                       | 35.66128                                                       | 37.68544                                                       | 31.32519                                                       | 41                                                             | 18                                                             | 18                                                             | 50.20427                                                       | 0                                                              |\n",
       "| CCCn1c(SC)nc(c2ccc(F)cc2)c1c3ccncc3                            | 3                                                              | 3                                                              | 3                                                              | 3                                                              | 0                                                              | 0                                                              | 1                                                              | 2                                                              | 0                                                              | ...                                                            | 31.70974                                                       | 30.08463                                                       | 40.91373                                                       | 44.00093                                                       | 44.25296                                                       | 41                                                             | 17                                                             | 17                                                             | 50.43927                                                       | 0                                                              |\n",
       "| COc1ccc(N2C(=O)Nc3c2ncnc3c4ccccc4C)c(OC)c1                     | 4                                                              | 4                                                              | 3                                                              | 3                                                              | 0                                                              | 0                                                              | 1                                                              | 3                                                              | 0                                                              | ...                                                            | 30.76333                                                       | 33.15610                                                       | 47.84469                                                       | 53.59225                                                       | 54.50528                                                       | 45                                                             | 22                                                             | 21                                                             | 54.00827                                                       | 0                                                              |\n",
       "| Cc1ccc(cc1)n2nc(cc2NC(=O)Nc3ccc(OCCN4CCOCC4)c5ccccc35)C(C)(C)C | 5                                                              | 4                                                              | 4                                                              | 3                                                              | 0                                                              | 0                                                              | 1                                                              | 4                                                              | 0                                                              | ...                                                            | 43.12331                                                       | 46.68226                                                       | 66.81389                                                       | 66.78627                                                       | 64.72736                                                       | 76                                                             | 22                                                             | 21                                                             | 87.13734                                                       | 0                                                              |\n",
       "\n"
      ],
      "text/plain": [
       "  CanonicalSmiles                                                nSmallRings\n",
       "1 Cc1ccccc1C(=O)c2ccc(Nc3ccccc3N)cc2                             3          \n",
       "2 CCCn1c(SC)nc(c2ccc(F)cc2)c1c3ccncc3                            3          \n",
       "3 COc1ccc(N2C(=O)Nc3c2ncnc3c4ccccc4C)c(OC)c1                     4          \n",
       "4 Cc1ccc(cc1)n2nc(cc2NC(=O)Nc3ccc(OCCN4CCOCC4)c5ccccc35)C(C)(C)C 5          \n",
       "  nAromRings nRingBlocks nAromBlocks nRings3 nRings4 nRings5 nRings6 nRings7\n",
       "1 3          3           3           0       0       0       3       0      \n",
       "2 3          3           3           0       0       1       2       0      \n",
       "3 4          3           3           0       0       1       3       0      \n",
       "4 4          4           3           0       0       1       4       0      \n",
       "  ... ATSm1    ATSm2    ATSm3    ATSm4    ATSm5    nAtom nAromBond naAromAtom\n",
       "1 ... 24.49443 25.83064 35.66128 37.68544 31.32519 41    18        18        \n",
       "2 ... 31.70974 30.08463 40.91373 44.00093 44.25296 41    17        17        \n",
       "3 ... 30.76333 33.15610 47.84469 53.59225 54.50528 45    22        21        \n",
       "4 ... 43.12331 46.68226 66.81389 66.78627 64.72736 76    22        21        \n",
       "  apol     nAcid\n",
       "1 50.20427 0    \n",
       "2 50.43927 0    \n",
       "3 54.00827 0    \n",
       "4 87.13734 0    "
      ]
     },
     "metadata": {},
     "output_type": "display_data"
    }
   ],
   "source": [
    "#cargamos descriptores moleculares\n",
    "vectorDescriptores <- read.csv(\"vectorDescriptores.csv\")\n",
    "#eliminamos columnas de nulos\n",
    "vectorDescriptores <- Filter(function(x)!any(is.na(x)),vectorDescriptores)\n",
    "#eliminas filas con valores nulos (2)\n",
    "vectorDescriptores <- vectorDescriptores[complete.cases(vectorDescriptores),]\n",
    "head(vectorDescriptores,4)"
   ]
  },
  {
   "cell_type": "code",
   "execution_count": 96,
   "metadata": {},
   "outputs": [
    {
     "data": {
      "image/png": "[encoded data removed]",
      "text/plain": [
       "plot without title"
      ]
     },
     "metadata": {},
     "output_type": "display_data"
    }
   ],
   "source": [
    "#Comprobemos la distribucion de los valores de IC50\n",
    "values=sort(medicamentos$value)\n",
    "plot(values,type=\"l\")\n",
    "options(repr.plot.width=4, repr.plot.height=4)"
   ]
  },
  {
   "cell_type": "code",
   "execution_count": 97,
   "metadata": {},
   "outputs": [
    {
     "data": {
      "text/html": [
       "94"
      ],
      "text/latex": [
       "94"
      ],
      "text/markdown": [
       "94"
      ],
      "text/plain": [
       "[1] 94"
      ]
     },
     "metadata": {},
     "output_type": "display_data"
    }
   ],
   "source": [
    "#Decidimos un punto de separacion entre valores IC50 altos (HIGH) y bajos (LOW)\n",
    "\n",
    "median(values)\n",
    "#Debido a la distribución de los datos la mediana no es fiable, ya que los valores se mantienen bajos\n",
    "#hasta llegar al último 10% de los datos"
   ]
  },
  {
   "cell_type": "code",
   "execution_count": 98,
   "metadata": {},
   "outputs": [
    {
     "data": {
      "text/html": [
       "3368.05633622864"
      ],
      "text/latex": [
       "3368.05633622864"
      ],
      "text/markdown": [
       "3368.05633622864"
      ],
      "text/plain": [
       "[1] 3368.056"
      ]
     },
     "metadata": {},
     "output_type": "display_data"
    }
   ],
   "source": [
    "#La media se ajusta un poco más\n",
    "mean(values)"
   ]
  },
  {
   "cell_type": "code",
   "execution_count": 99,
   "metadata": {},
   "outputs": [],
   "source": [
    "#También se puede escojer como punto de separación, el punto medio de la curva de crecimiento que se ve en\n",
    "#la gráfica. La posición 3500 (aprox)\n",
    "#values[3500]"
   ]
  },
  {
   "cell_type": "code",
   "execution_count": 102,
   "metadata": {},
   "outputs": [
    {
     "data": {
      "text/html": [
       "<table>\n",
       "<thead><tr><th scope=col>nSmallRings</th><th scope=col>nAromRings</th><th scope=col>nRingBlocks</th><th scope=col>nAromBlocks</th><th scope=col>nRings3</th><th scope=col>nRings4</th><th scope=col>nRings5</th><th scope=col>nRings6</th><th scope=col>nRings7</th><th scope=col>nRings8</th><th scope=col>...</th><th scope=col>ATSm1</th><th scope=col>ATSm2</th><th scope=col>ATSm3</th><th scope=col>ATSm4</th><th scope=col>ATSm5</th><th scope=col>nAtom</th><th scope=col>nAromBond</th><th scope=col>naAromAtom</th><th scope=col>apol</th><th scope=col>nAcid</th></tr></thead>\n",
       "<tbody>\n",
       "\t<tr><td>3       </td><td>3       </td><td>3       </td><td>3       </td><td>0       </td><td>0       </td><td>0       </td><td>3       </td><td>0       </td><td>0       </td><td>...     </td><td>24.49443</td><td>25.83064</td><td>35.66128</td><td>37.68544</td><td>31.32519</td><td>41      </td><td>18      </td><td>18      </td><td>50.20427</td><td>0       </td></tr>\n",
       "\t<tr><td>3       </td><td>3       </td><td>3       </td><td>3       </td><td>0       </td><td>0       </td><td>1       </td><td>2       </td><td>0       </td><td>0       </td><td>...     </td><td>31.70974</td><td>30.08463</td><td>40.91373</td><td>44.00093</td><td>44.25296</td><td>41      </td><td>17      </td><td>17      </td><td>50.43927</td><td>0       </td></tr>\n",
       "\t<tr><td>4       </td><td>4       </td><td>3       </td><td>3       </td><td>0       </td><td>0       </td><td>1       </td><td>3       </td><td>0       </td><td>0       </td><td>...     </td><td>30.76333</td><td>33.15610</td><td>47.84469</td><td>53.59225</td><td>54.50528</td><td>45      </td><td>22      </td><td>21      </td><td>54.00827</td><td>0       </td></tr>\n",
       "\t<tr><td>5       </td><td>4       </td><td>4       </td><td>3       </td><td>0       </td><td>0       </td><td>1       </td><td>4       </td><td>0       </td><td>0       </td><td>...     </td><td>43.12331</td><td>46.68226</td><td>66.81389</td><td>66.78627</td><td>64.72736</td><td>76      </td><td>22      </td><td>21      </td><td>87.13734</td><td>0       </td></tr>\n",
       "</tbody>\n",
       "</table>\n"
      ],
      "text/latex": [
       "\\begin{tabular}{r|llllllllllllllllllllllllllllllllllllllllllllllllllllllllllllllllllllllllllllllllllllllllllllllllllllllllllllllllllllllllllllllllllllllllllllllllllllllllllllllllllllllllllllllllllllllllllllllllllllllllllllll}\n",
       " nSmallRings & nAromRings & nRingBlocks & nAromBlocks & nRings3 & nRings4 & nRings5 & nRings6 & nRings7 & nRings8 & ... & ATSm1 & ATSm2 & ATSm3 & ATSm4 & ATSm5 & nAtom & nAromBond & naAromAtom & apol & nAcid\\\\\n",
       "\\hline\n",
       "\t 3        & 3        & 3        & 3        & 0        & 0        & 0        & 3        & 0        & 0        & ...      & 24.49443 & 25.83064 & 35.66128 & 37.68544 & 31.32519 & 41       & 18       & 18       & 50.20427 & 0       \\\\\n",
       "\t 3        & 3        & 3        & 3        & 0        & 0        & 1        & 2        & 0        & 0        & ...      & 31.70974 & 30.08463 & 40.91373 & 44.00093 & 44.25296 & 41       & 17       & 17       & 50.43927 & 0       \\\\\n",
       "\t 4        & 4        & 3        & 3        & 0        & 0        & 1        & 3        & 0        & 0        & ...      & 30.76333 & 33.15610 & 47.84469 & 53.59225 & 54.50528 & 45       & 22       & 21       & 54.00827 & 0       \\\\\n",
       "\t 5        & 4        & 4        & 3        & 0        & 0        & 1        & 4        & 0        & 0        & ...      & 43.12331 & 46.68226 & 66.81389 & 66.78627 & 64.72736 & 76       & 22       & 21       & 87.13734 & 0       \\\\\n",
       "\\end{tabular}\n"
      ],
      "text/markdown": [
       "\n",
       "| nSmallRings | nAromRings | nRingBlocks | nAromBlocks | nRings3 | nRings4 | nRings5 | nRings6 | nRings7 | nRings8 | ... | ATSm1 | ATSm2 | ATSm3 | ATSm4 | ATSm5 | nAtom | nAromBond | naAromAtom | apol | nAcid |\n",
       "|---|---|---|---|---|---|---|---|---|---|---|---|---|---|---|---|---|---|---|---|---|\n",
       "| 3        | 3        | 3        | 3        | 0        | 0        | 0        | 3        | 0        | 0        | ...      | 24.49443 | 25.83064 | 35.66128 | 37.68544 | 31.32519 | 41       | 18       | 18       | 50.20427 | 0        |\n",
       "| 3        | 3        | 3        | 3        | 0        | 0        | 1        | 2        | 0        | 0        | ...      | 31.70974 | 30.08463 | 40.91373 | 44.00093 | 44.25296 | 41       | 17       | 17       | 50.43927 | 0        |\n",
       "| 4        | 4        | 3        | 3        | 0        | 0        | 1        | 3        | 0        | 0        | ...      | 30.76333 | 33.15610 | 47.84469 | 53.59225 | 54.50528 | 45       | 22       | 21       | 54.00827 | 0        |\n",
       "| 5        | 4        | 4        | 3        | 0        | 0        | 1        | 4        | 0        | 0        | ...      | 43.12331 | 46.68226 | 66.81389 | 66.78627 | 64.72736 | 76       | 22       | 21       | 87.13734 | 0        |\n",
       "\n"
      ],
      "text/plain": [
       "  nSmallRings nAromRings nRingBlocks nAromBlocks nRings3 nRings4 nRings5\n",
       "1 3           3          3           3           0       0       0      \n",
       "2 3           3          3           3           0       0       1      \n",
       "3 4           4          3           3           0       0       1      \n",
       "4 5           4          4           3           0       0       1      \n",
       "  nRings6 nRings7 nRings8 ... ATSm1    ATSm2    ATSm3    ATSm4    ATSm5   \n",
       "1 3       0       0       ... 24.49443 25.83064 35.66128 37.68544 31.32519\n",
       "2 2       0       0       ... 31.70974 30.08463 40.91373 44.00093 44.25296\n",
       "3 3       0       0       ... 30.76333 33.15610 47.84469 53.59225 54.50528\n",
       "4 4       0       0       ... 43.12331 46.68226 66.81389 66.78627 64.72736\n",
       "  nAtom nAromBond naAromAtom apol     nAcid\n",
       "1 41    18        18         50.20427 0    \n",
       "2 41    17        17         50.43927 0    \n",
       "3 45    22        21         54.00827 0    \n",
       "4 76    22        21         87.13734 0    "
      ]
     },
     "metadata": {},
     "output_type": "display_data"
    }
   ],
   "source": [
    "#utilizamos la media como umbral para definir las clases IC50LOW (1) e IC50HIGH (0)\n",
    "valorTeorico = 100 # <101 lo consideraremos IC50bajo\n",
    "#tmp <- ifelse(medicamentos$value < mean(medicamentos$value), 1, 0)\n",
    "vectorClase <- ifelse(medicamentos$value < valorTeorico, 1, 0)\n",
    "#vectorDescriptores$class <- vectorClase\n",
    "\n",
    "smiles=vectorDescriptores$CanonicalSmiles\n",
    "vectorDescriptores$CanonicalSmiles <- NULL\n",
    "head(vectorDescriptores,4)"
   ]
  },
  {
   "cell_type": "code",
   "execution_count": 104,
   "metadata": {},
   "outputs": [
    {
     "data": {
      "text/plain": [
       "Confusion Matrix and Statistics\n",
       "\n",
       "              validacionTest\n",
       "prediccionTest   0   1\n",
       "             0 246  88\n",
       "             1 121 259\n",
       "                                          \n",
       "               Accuracy : 0.7073          \n",
       "                 95% CI : (0.6724, 0.7404)\n",
       "    No Information Rate : 0.514           \n",
       "    P-Value [Acc > NIR] : < 2e-16         \n",
       "                                          \n",
       "                  Kappa : 0.4156          \n",
       "                                          \n",
       " Mcnemar's Test P-Value : 0.02686         \n",
       "                                          \n",
       "            Sensitivity : 0.6703          \n",
       "            Specificity : 0.7464          \n",
       "         Pos Pred Value : 0.7365          \n",
       "         Neg Pred Value : 0.6816          \n",
       "             Prevalence : 0.5140          \n",
       "         Detection Rate : 0.3445          \n",
       "   Detection Prevalence : 0.4678          \n",
       "      Balanced Accuracy : 0.7083          \n",
       "                                          \n",
       "       'Positive' Class : 0               \n",
       "                                          "
      ]
     },
     "metadata": {},
     "output_type": "display_data"
    },
    {
     "data": {
      "text/html": [
       "<strong>Accuracy:</strong> 0.694"
      ],
      "text/latex": [
       "\\textbf{Accuracy:} 0.694"
      ],
      "text/markdown": [
       "**Accuracy:** 0.694"
      ],
      "text/plain": [
       "Accuracy \n",
       "   0.694 "
      ]
     },
     "metadata": {},
     "output_type": "display_data"
    },
    {
     "data": {
      "text/html": [
       "<strong>Sensitivity:</strong> 0.676"
      ],
      "text/latex": [
       "\\textbf{Sensitivity:} 0.676"
      ],
      "text/markdown": [
       "**Sensitivity:** 0.676"
      ],
      "text/plain": [
       "Sensitivity \n",
       "      0.676 "
      ]
     },
     "metadata": {},
     "output_type": "display_data"
    },
    {
     "data": {
      "text/html": [
       "<strong>Specificity:</strong> 0.711"
      ],
      "text/latex": [
       "\\textbf{Specificity:} 0.711"
      ],
      "text/markdown": [
       "**Specificity:** 0.711"
      ],
      "text/plain": [
       "Specificity \n",
       "      0.711 "
      ]
     },
     "metadata": {},
     "output_type": "display_data"
    },
    {
     "data": {
      "text/html": [
       "<strong>Precision:</strong> 0.694"
      ],
      "text/latex": [
       "\\textbf{Precision:} 0.694"
      ],
      "text/markdown": [
       "**Precision:** 0.694"
      ],
      "text/plain": [
       "Precision \n",
       "    0.694 "
      ]
     },
     "metadata": {},
     "output_type": "display_data"
    }
   ],
   "source": [
    "#Clasificacion para knn\n",
    "n = 10 #número de modelos para hacer la media\n",
    "precisionMedia = 0\n",
    "sensibilidadMedia = 0\n",
    "especifidadMedia = 0\n",
    "exactitudMedia = 0\n",
    "for(i in 1:n) {\n",
    "    #version cutre de división de grupos\n",
    "    nEntrenamiento = round(0.8 * nrow(vectorDescriptores))\n",
    "    entrenamiento<-sample(1:nrow(vectorDescriptores),nEntrenamiento)\n",
    "    conjunto_entrenamiento<-vectorDescriptores[entrenamiento,]\n",
    "    conjunto_test<-vectorDescriptores[-entrenamiento,]\n",
    "    y = vectorClase[entrenamiento]\n",
    "    #Clasificacion para knn\n",
    "    prediccionTest <- knn(conjunto_entrenamiento,conjunto_test,cl=factor(y),k=7, l=0, prob=FALSE, use.all=TRUE)\n",
    "    #vectorDescriptores$class <- vectorClase\n",
    "    #Obtenemos las clases de los datos de entrenamiento\n",
    "    validacionTest <- vectorClase[-entrenamiento]\n",
    "    #caret::confusionMatrix(predicho, valoresReales)\n",
    "    #tabla <- table(predicho, validacionTest)\n",
    "    #tabla\n",
    "    confmatrix <- caret::confusionMatrix(table(prediccionTest, validacionTest))\n",
    "    precisionMedia = precisionMedia + confmatrix$overall[1]\n",
    "    sensibilidadMedia = sensibilidadMedia + confmatrix$byClass[1]\n",
    "    especifidadMedia = especifidadMedia + confmatrix$byClass[2]\n",
    "    exactitudMedia = exactitudMedia + confmatrix$byClass[5]\n",
    "}\n",
    "confmatrix\n",
    "round((precisionMedia/n),3) #precisión\n",
    "round((sensibilidadMedia/n),3) #sensibilidad\n",
    "round((especifidadMedia/n),3) #especifidad\n",
    "round((exactitudMedia/n),3) #exactitud\n"
   ]
  },
  {
   "cell_type": "code",
   "execution_count": null,
   "metadata": {},
   "outputs": [],
   "source": [
    "#Clasificacion para random forest\n",
    "n = 10 #número de modelos para hacer la media\n",
    "precisionMedia = 0\n",
    "sensibilidadMedia = 0\n",
    "especifidadMedia = 0\n",
    "exactitudMedia = 0\n",
    "for(i in 1:n) {\n",
    "    #version cutre de división de grupos\n",
    "    nEntrenamiento = round(0.8 * nrow(vectorDescriptores))\n",
    "    entrenamiento<-sample(1:nrow(vectorDescriptores),nEntrenamiento)\n",
    "    conjunto_entrenamiento<-vectorDescriptores[entrenamiento,]\n",
    "    conjunto_test<-vectorDescriptores[-entrenamiento,]\n",
    "    y = as.factor(vectorClase[entrenamiento])\n",
    "    #Clasificacion para random forest\n",
    "    conjunto_entrenamiento$clase <- y\n",
    "    modeloRF <- randomForest(clase ~ . , data = conjunto_entrenamiento, mtry=100)\n",
    "    prediccionTest <- predict(modeloRF, conjunto_test, type = \"class\") \n",
    "    #Obtenemos las clases de los datos de entrenamiento\n",
    "    validacionTest <- vectorClase[-entrenamiento]\n",
    "    #caret::confusionMatrix(predicho, valoresReales)\n",
    "    #tabla <- table(predicho, validacionTest)\n",
    "    #tabla\n",
    "    confmatrix <- caret::confusionMatrix(table(prediccionTest, validacionTest))\n",
    "    precisionMedia = precisionMedia + confmatrix$overall[1]\n",
    "    sensibilidadMedia = sensibilidadMedia + confmatrix$byClass[1]\n",
    "    especifidadMedia = especifidadMedia + confmatrix$byClass[2]\n",
    "    exactitudMedia = exactitudMedia + confmatrix$byClass[5]\n",
    "}\n",
    "confmatrix\n",
    "round((precisionMedia/n),3) #precisión\n",
    "round((sensibilidadMedia/n),3) #sensibilidad\n",
    "round((especifidadMedia/n),3) #especifidad\n",
    "round((exactitudMedia/n),3) #exactitud"
   ]
  },
  {
   "cell_type": "code",
   "execution_count": null,
   "metadata": {},
   "outputs": [],
   "source": []
  }
 ],
 "metadata": {
  "kernelspec": {
   "display_name": "R",
   "language": "R",
   "name": "ir"
  },
  "language_info": {
   "codemirror_mode": "r",
   "file_extension": ".r",
   "mimetype": "text/x-r-source",
   "name": "R",
   "pygments_lexer": "r",
   "version": "3.6.1"
  }
 },
 "nbformat": 4,
 "nbformat_minor": 2
}
